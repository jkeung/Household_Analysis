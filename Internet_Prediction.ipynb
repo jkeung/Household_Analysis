{
 "cells": [
  {
   "cell_type": "markdown",
   "metadata": {},
   "source": [
    "# Predicting whether or not a household has Internet Access"
   ]
  },
  {
   "cell_type": "code",
   "execution_count": 29,
   "metadata": {
    "collapsed": true
   },
   "outputs": [],
   "source": [
    "%matplotlib inline\n",
    "import pandas as pd\n",
    "import numpy as np\n",
    "import seaborn as sb\n",
    "import matplotlib.pyplot as plt\n",
    "import random\n",
    "import pickle\n",
    "from sklearn.cross_validation import train_test_split\n",
    "from sklearn.cross_validation import cross_val_score\n",
    "from sklearn.grid_search import GridSearchCV\n",
    "from sklearn.metrics import classification_report\n",
    "from sklearn.metrics import roc_auc_score\n",
    "from sklearn.metrics import roc_curve\n",
    "from sklearn.metrics import accuracy_score\n",
    "from sklearn.metrics import auc\n",
    "from sklearn.metrics import confusion_matrix\n",
    "from sklearn.multiclass import OneVsRestClassifier\n",
    "from sklearn.learning_curve import learning_curve\n",
    "from sklearn.preprocessing import label_binarize\n",
    "from sklearn.preprocessing import OneHotEncoder\n",
    "from sklearn.preprocessing import LabelEncoder\n",
    "from sklearn.preprocessing import MinMaxScaler\n",
    "from sklearn.preprocessing import scale\n",
    "from sklearn.preprocessing import label_binarize\n",
    "from sklearn.linear_model import LogisticRegression\n",
    "from sklearn.ensemble import RandomForestClassifier\n",
    "from sklearn.naive_bayes import GaussianNB\n",
    "from sklearn.neighbors import KNeighborsClassifier\n",
    "from sklearn.svm import SVC\n",
    "from sklearn.tree import DecisionTreeClassifier\n",
    "from sklearn.ensemble import RandomForestClassifier\n",
    "from patsy import dmatrices"
   ]
  },
  {
   "cell_type": "markdown",
   "metadata": {},
   "source": [
    "#### Create Data Frame"
   ]
  },
  {
   "cell_type": "code",
   "execution_count": 22,
   "metadata": {
    "collapsed": true
   },
   "outputs": [],
   "source": [
    "files = ['ss13husa.csv', 'ss13husb.csv']\n",
    "\n",
    "def get_data(files):\n",
    "    for i, file in enumerate(files):\n",
    "        if i == 0:\n",
    "            df = pd.read_csv(file)\n",
    "        else:\n",
    "            df = df.append(pd.read_csv(file))\n",
    "    return df\n",
    "\n",
    "df = get_data(files)"
   ]
  },
  {
   "cell_type": "markdown",
   "metadata": {},
   "source": [
    "#### Check that the lengths of the datasets"
   ]
  },
  {
   "cell_type": "code",
   "execution_count": 4,
   "metadata": {
    "collapsed": false
   },
   "outputs": [
    {
     "data": {
      "text/plain": [
       "(1476313, 231)"
      ]
     },
     "execution_count": 4,
     "metadata": {},
     "output_type": "execute_result"
    }
   ],
   "source": [
    "df.shape"
   ]
  },
  {
   "cell_type": "markdown",
   "metadata": {},
   "source": [
    "#### See the columns are in the dataset"
   ]
  },
  {
   "cell_type": "code",
   "execution_count": 6,
   "metadata": {
    "collapsed": false
   },
   "outputs": [
    {
     "data": {
      "text/plain": [
       "Index([u'RT', u'SERIALNO', u'DIVISION', u'PUMA', u'REGION', u'ST', u'ADJHSG',\n",
       "       u'ADJINC', u'WGTP', u'NP', \n",
       "       ...\n",
       "       u'wgtp71', u'wgtp72', u'wgtp73', u'wgtp74', u'wgtp75', u'wgtp76',\n",
       "       u'wgtp77', u'wgtp78', u'wgtp79', u'wgtp80'],\n",
       "      dtype='object', length=231)"
      ]
     },
     "execution_count": 6,
     "metadata": {},
     "output_type": "execute_result"
    }
   ],
   "source": [
    "df.columns"
   ]
  },
  {
   "cell_type": "markdown",
   "metadata": {},
   "source": [
    "#### Feature Selection"
   ]
  },
  {
   "cell_type": "markdown",
   "metadata": {},
   "source": [
    "#### Extract features that relate to having internet"
   ]
  },
  {
   "cell_type": "code",
   "execution_count": 23,
   "metadata": {
    "collapsed": false
   },
   "outputs": [],
   "source": [
    "def create_internet_column(df):\n",
    "\n",
    "    # Define Internet Features\n",
    "    internet_features = ['DSL','DIALUP', 'SATELLITE', 'OTHSVCEX', 'MODEM', 'FIBEROP']\n",
    "    int_true = {}\n",
    "    int_false = {}\n",
    "    # Condition which represents having some form of internet service\n",
    "    for feature in internet_features:\n",
    "        int_true[feature] = df[feature] == 1\n",
    "    \n",
    "    # Obtain indexes for rows in dataframe that have some form of internet service\n",
    "    for i, df_temp in enumerate(int_true.values()):\n",
    "        if i == 0:\n",
    "            internet_true = df_temp\n",
    "        else:\n",
    "            internet_true = internet_true | df_temp    \n",
    "    \n",
    "    # Create INTERNET column in dataframe based on indexes of internet_true\n",
    "    df['INTERNET'] = 1\n",
    "    df['INTERNET'] = df['INTERNET'].where(internet_true, other = 0)\n",
    "\n",
    "    return df"
   ]
  },
  {
   "cell_type": "code",
   "execution_count": 24,
   "metadata": {
    "collapsed": false
   },
   "outputs": [
    {
     "data": {
      "text/html": [
       "<div>\n",
       "<table border=\"1\" class=\"dataframe\">\n",
       "  <thead>\n",
       "    <tr style=\"text-align: right;\">\n",
       "      <th></th>\n",
       "      <th>RT</th>\n",
       "      <th>SERIALNO</th>\n",
       "      <th>DIVISION</th>\n",
       "      <th>PUMA</th>\n",
       "      <th>REGION</th>\n",
       "      <th>ST</th>\n",
       "      <th>ADJHSG</th>\n",
       "      <th>ADJINC</th>\n",
       "      <th>WGTP</th>\n",
       "      <th>NP</th>\n",
       "      <th>...</th>\n",
       "      <th>wgtp72</th>\n",
       "      <th>wgtp73</th>\n",
       "      <th>wgtp74</th>\n",
       "      <th>wgtp75</th>\n",
       "      <th>wgtp76</th>\n",
       "      <th>wgtp77</th>\n",
       "      <th>wgtp78</th>\n",
       "      <th>wgtp79</th>\n",
       "      <th>wgtp80</th>\n",
       "      <th>INTERNET</th>\n",
       "    </tr>\n",
       "  </thead>\n",
       "  <tbody>\n",
       "    <tr>\n",
       "      <th>0</th>\n",
       "      <td>H</td>\n",
       "      <td>84</td>\n",
       "      <td>6</td>\n",
       "      <td>2600</td>\n",
       "      <td>3</td>\n",
       "      <td>1</td>\n",
       "      <td>1000000</td>\n",
       "      <td>1007549</td>\n",
       "      <td>0</td>\n",
       "      <td>1</td>\n",
       "      <td>...</td>\n",
       "      <td>0</td>\n",
       "      <td>0</td>\n",
       "      <td>0</td>\n",
       "      <td>0</td>\n",
       "      <td>0</td>\n",
       "      <td>0</td>\n",
       "      <td>0</td>\n",
       "      <td>0</td>\n",
       "      <td>0</td>\n",
       "      <td>0</td>\n",
       "    </tr>\n",
       "    <tr>\n",
       "      <th>1</th>\n",
       "      <td>H</td>\n",
       "      <td>154</td>\n",
       "      <td>6</td>\n",
       "      <td>2500</td>\n",
       "      <td>3</td>\n",
       "      <td>1</td>\n",
       "      <td>1000000</td>\n",
       "      <td>1007549</td>\n",
       "      <td>51</td>\n",
       "      <td>4</td>\n",
       "      <td>...</td>\n",
       "      <td>53</td>\n",
       "      <td>59</td>\n",
       "      <td>84</td>\n",
       "      <td>49</td>\n",
       "      <td>15</td>\n",
       "      <td>15</td>\n",
       "      <td>20</td>\n",
       "      <td>50</td>\n",
       "      <td>16</td>\n",
       "      <td>1</td>\n",
       "    </tr>\n",
       "    <tr>\n",
       "      <th>2</th>\n",
       "      <td>H</td>\n",
       "      <td>156</td>\n",
       "      <td>6</td>\n",
       "      <td>1700</td>\n",
       "      <td>3</td>\n",
       "      <td>1</td>\n",
       "      <td>1000000</td>\n",
       "      <td>1007549</td>\n",
       "      <td>449</td>\n",
       "      <td>1</td>\n",
       "      <td>...</td>\n",
       "      <td>530</td>\n",
       "      <td>601</td>\n",
       "      <td>579</td>\n",
       "      <td>341</td>\n",
       "      <td>378</td>\n",
       "      <td>387</td>\n",
       "      <td>421</td>\n",
       "      <td>621</td>\n",
       "      <td>486</td>\n",
       "      <td>0</td>\n",
       "    </tr>\n",
       "    <tr>\n",
       "      <th>3</th>\n",
       "      <td>H</td>\n",
       "      <td>160</td>\n",
       "      <td>6</td>\n",
       "      <td>2200</td>\n",
       "      <td>3</td>\n",
       "      <td>1</td>\n",
       "      <td>1000000</td>\n",
       "      <td>1007549</td>\n",
       "      <td>16</td>\n",
       "      <td>3</td>\n",
       "      <td>...</td>\n",
       "      <td>24</td>\n",
       "      <td>33</td>\n",
       "      <td>7</td>\n",
       "      <td>7</td>\n",
       "      <td>13</td>\n",
       "      <td>18</td>\n",
       "      <td>23</td>\n",
       "      <td>23</td>\n",
       "      <td>5</td>\n",
       "      <td>0</td>\n",
       "    </tr>\n",
       "    <tr>\n",
       "      <th>4</th>\n",
       "      <td>H</td>\n",
       "      <td>231</td>\n",
       "      <td>6</td>\n",
       "      <td>2400</td>\n",
       "      <td>3</td>\n",
       "      <td>1</td>\n",
       "      <td>1000000</td>\n",
       "      <td>1007549</td>\n",
       "      <td>52</td>\n",
       "      <td>1</td>\n",
       "      <td>...</td>\n",
       "      <td>18</td>\n",
       "      <td>37</td>\n",
       "      <td>49</td>\n",
       "      <td>103</td>\n",
       "      <td>38</td>\n",
       "      <td>49</td>\n",
       "      <td>51</td>\n",
       "      <td>46</td>\n",
       "      <td>47</td>\n",
       "      <td>0</td>\n",
       "    </tr>\n",
       "  </tbody>\n",
       "</table>\n",
       "<p>5 rows × 232 columns</p>\n",
       "</div>"
      ],
      "text/plain": [
       "  RT  SERIALNO  DIVISION  PUMA  REGION  ST   ADJHSG   ADJINC  WGTP  NP  \\\n",
       "0  H        84         6  2600       3   1  1000000  1007549     0   1   \n",
       "1  H       154         6  2500       3   1  1000000  1007549    51   4   \n",
       "2  H       156         6  1700       3   1  1000000  1007549   449   1   \n",
       "3  H       160         6  2200       3   1  1000000  1007549    16   3   \n",
       "4  H       231         6  2400       3   1  1000000  1007549    52   1   \n",
       "\n",
       "     ...     wgtp72  wgtp73  wgtp74  wgtp75  wgtp76  wgtp77  wgtp78  wgtp79  \\\n",
       "0    ...          0       0       0       0       0       0       0       0   \n",
       "1    ...         53      59      84      49      15      15      20      50   \n",
       "2    ...        530     601     579     341     378     387     421     621   \n",
       "3    ...         24      33       7       7      13      18      23      23   \n",
       "4    ...         18      37      49     103      38      49      51      46   \n",
       "\n",
       "   wgtp80  INTERNET  \n",
       "0       0         0  \n",
       "1      16         1  \n",
       "2     486         0  \n",
       "3       5         0  \n",
       "4      47         0  \n",
       "\n",
       "[5 rows x 232 columns]"
      ]
     },
     "execution_count": 24,
     "metadata": {},
     "output_type": "execute_result"
    }
   ],
   "source": [
    "df = create_internet_column(df)\n",
    "df.head()"
   ]
  },
  {
   "cell_type": "code",
   "execution_count": 25,
   "metadata": {
    "collapsed": false
   },
   "outputs": [],
   "source": [
    "def drop_irrelevant_features(df):\n",
    "\n",
    "    features = [#'RT',          # Record Type\n",
    "     #'SERIALNO',    # Housing Unit Serial No.\n",
    "     #'DIVISION',    # Division Code\n",
    "     #'PUMA',        # Public Use Microdata Area Code\n",
    "     'REGION',      # Region\n",
    "     'ST',          # State Code\n",
    "     #'ADJHSG',     # Adjustment factor for Housing\n",
    "     #'ADJINC',     # Inflation adjustment for Income\n",
    "     #'WGTP',       # Housing Weight\n",
    "     'NP',          # Number of person records following this household\n",
    "     'TYPE',        # Type of Unit \n",
    "\n",
    "     #'ACR',         # Lot Size\n",
    "     #'AGS',        # Sales of Agriculture Products\n",
    "     'BATH',        # Bathtub or Shower\n",
    "     'BDSP',        # Number of bedrooms\n",
    "     'BLD',         # Units in Structure\n",
    "     'BROADBND',    # Mobile Broadband Plan\n",
    "     #'BUS',         # Business or medical office on property\n",
    "     #'COMPOTHX',   # Other computer equipment\n",
    "     #'CONP',       # Condo Fee\n",
    "\n",
    "     #'ELEP',       # Electricity Monthly Cost\n",
    "\n",
    "     'FS',          # Yearly Food Stamp Recipiency\n",
    "     #'FULP',       # Fuel Cost (other than gas and elec)\n",
    "     #'GASP',       # Monthly Gas Cost\n",
    "     'HANDHELD',    # Handheld Computer\n",
    "     #'HFL',        # House Heating Fuel\n",
    "     #'INSP',       # Fire/Hazard/Flood Insurance\n",
    "     'LAPTOP',      # Laptop?\n",
    "     #'MHP',        # Mobile Home Costs\n",
    "\n",
    "     #'MRGI',       # First Mortgage includes fire/hazard/flood insurance\n",
    "     #'MRGP',       # First Mortgage Payment\n",
    "     #'MRGT',       # First Mortgage Payment includes real estate taxes\n",
    "     #'MRGX',       # First Mortgage Status\n",
    "\n",
    "     #'REFR',       # Refridgerator\n",
    "     'RMSP',        # Number of Rooms\n",
    "     #'RNTM',        # Meals included in rent\n",
    "     #'RNTP',        # Monthly Rent\n",
    "     #'RWAT',       # Hot and Cold Water Running\n",
    "     #'RWATPR',     # Running Water\n",
    "\n",
    "     'SINK',        # Sink with a Faucet\n",
    "     #'SMP',        # Total payment on all second and junior mortgages\n",
    "     'STOV',        # Stove or Range\n",
    "     'TEL',         # Telephone\n",
    "     'TEN',         # Tenure\n",
    "     #'TOIL',       # Flush Toilet\n",
    "     #'VACS',        # Vacancy Status\n",
    "     #'VALP',        # Property Value\n",
    "     #'VEH',        # Vehicles Available\n",
    "     #'WATP',       # Water Yearly Cost\n",
    "     'YBL',         # When Structure first built\n",
    "     #'FES',         # Family Type and Employment Status\n",
    "     #'FFINCP',      # Family income allocation flag      \n",
    "     #'FGRNTP',      # Yearly food stamp allocation flag\n",
    "     #'FHINCP',      # Household income allocation flag\n",
    "     #'FINCP',       # Family Income\n",
    "     #'FPARC',       # Family presence and age of related children\n",
    "     #'FSMOCP',      # Selected monthly owner cost allocation flag\n",
    "     #'GRNTP',       # Gross Rent\n",
    "     #'GRPIP',       # Gross rent as a percentage of household income\n",
    "     'HHL',         # Household Language\n",
    "     'HHT',         # Household/family Type\n",
    "     'HINCP',       # Household income (past 12 months)\n",
    "     'HUGCL',       # Household w/ grandparent living w/ grandchildren\n",
    "     'HUPAC',       # Children Present\n",
    "     #'HUPAOC',     # HH presence and age of own children\n",
    "     #'HUPARC',     # HH presence and age of related children\n",
    "     'KIT',         # Complete kitchen facilities\n",
    "     'LNGI',        # Limited English Speaking Households\n",
    "     'MULTG',       # Multigenerational Household\n",
    "     #'MV',          # When moved into this house or apartment\n",
    "     'NOC',         # Number of children in household\n",
    "     #'NPF',         # Number of persons in family\n",
    "     'NPP',         # Grandparent headed household w/ no parent present\n",
    "     'NR',          # Presence of nonrelative in household\n",
    "     'NRC',         # Number of related children in household\n",
    "     #'OCPIP',       # Selected monthly owner costs as a percentage of household income\n",
    "     'PARTNER',     # Unmarried partner household\n",
    "     'PLM',         # Complete plumbing facilities\n",
    "     'PSF',         # Presence of subfamilies in Household\n",
    "     'R18',         # Presence of persons under 18 years in household\n",
    "     'R60',         # Presence of persons 60 years and over in household\n",
    "     'R65',         # Presence of persons 65 years and over in household\n",
    "     #'RESMODE',    # Response Mode\n",
    "     #'SMOCP',      # Selected Monthly Owner Costs\n",
    "     #'SMX',        # Second or junior mortgage home equity loan status\n",
    "     #'SRNT',       # Specified Rent Unit\n",
    "     'SSMC',        # Same Sex Marriage Households\n",
    "     'SVAL',        # Specifice value owner unit\n",
    "     #'TAXP',        # Property Taxes (yearly)\n",
    "     #'WIF',         # Workers in family during past 12 months\n",
    "     #'WKEXREL'     # Work experience of householder or spouse\n",
    "     #'WORKSTAT'    # Work status of householder or spouse in family households\n",
    "     #'ACCESS',      # Access to the Internet\n",
    "     #'DIALUP',      # Dial-up Service\n",
    "     #'DSL',         # DSL Service\n",
    "     #'FIBEROP',     # Fiber-optic Internet Service\n",
    "     #'MODEM',       # Cable Internet Service\n",
    "     #'OTHSVCEX',   # Other internet services\n",
    "     #'SATELLITE',   # Satellite Internet Service\n",
    "     'INTERNET'     # Flag indicator of internet service\n",
    "    ]\n",
    "    \n",
    "    return df[features]"
   ]
  },
  {
   "cell_type": "code",
   "execution_count": 26,
   "metadata": {
    "collapsed": false
   },
   "outputs": [],
   "source": [
    "df = drop_irrelevant_features(df)"
   ]
  },
  {
   "cell_type": "code",
   "execution_count": 28,
   "metadata": {
    "collapsed": false,
    "scrolled": true
   },
   "outputs": [],
   "source": [
    "def drop_missing_data(df):\n",
    "    return df.dropna()"
   ]
  },
  {
   "cell_type": "code",
   "execution_count": 29,
   "metadata": {
    "collapsed": true
   },
   "outputs": [],
   "source": [
    "df = drop_missing_data(df)"
   ]
  },
  {
   "cell_type": "code",
   "execution_count": 30,
   "metadata": {
    "collapsed": true
   },
   "outputs": [],
   "source": [
    "def specify_data_types(df):\n",
    "    df['REGION'] = df['REGION'].astype(object)      # Region, obj\n",
    "    df['ST'] = df['ST'].astype(object)          # State Code, obj\n",
    "    df['NP'] = df['NP'].astype(int)          # Number of person records following this household, int\n",
    "    df['TYPE'] = df['TYPE'].astype(object)        # Type of Unit, obj \n",
    "    df['BATH'] = df['BATH'].astype(object)        # Bathtub or Shower, obj\n",
    "    df['BDSP'] = df['BDSP'].astype(int)        # Number of bedrooms, int\n",
    "    df['BLD'] = df['BLD'].astype(object)         # Units in Structure, obj\n",
    "    df['BROADBND'] = df['BROADBND'].astype(object)    # Mobile Broadband Plan, obj\n",
    "    df['FS'] = df['FS'].astype(object)          # Yearly Food Stamp Recipiency, obj\n",
    "    df['HANDHELD'] = df['HANDHELD'].astype(object)    # Handheld Computer, obj\n",
    "    df['LAPTOP'] = df['LAPTOP'].astype(object)      # Laptop?, obj\n",
    "    df['RMSP'] = df['RMSP'].astype(int)        # Number of Rooms, int\n",
    "    df['SINK'] = df['SINK'].astype(object)        # Sink with a Faucet, obj\n",
    "    df['STOV'] = df['STOV'].astype(object)        # Stove or Range, obj\n",
    "    df['TEL'] = df['TEL'].astype(object)         # Telephone, obj\n",
    "    df['TEN'] = df['TEN'].astype(object)         # Tenure, obj\n",
    "    df['YBL'] = df['YBL'].astype(object)         # When Structure first built, obj\n",
    "    df['HHL'] = df['HHL'].astype(object)         # Household Language, obj\n",
    "    df['HHT'] = df['HHT'].astype(object)         # Household/family Type, obj\n",
    "    df['HINCP'] = df['HINCP'].astype(float)       # Household income (past 12 months), float\n",
    "    df['HUGCL'] = df['HUGCL'].astype(object)       # Household w/ grandparent living w/ grandchildren, obj\n",
    "    df['HUPAC'] = df['HUPAC'].astype(object)       # Children Present, obj\n",
    "    df['KIT'] = df['KIT'].astype(object)         # Complete kitchen facilities, obj\n",
    "    df['LNGI'] = df['LNGI'].astype(object)        # Limited English Speaking Households, obj\n",
    "    df['MULTG'] = df['MULTG'].astype(object)       # Multigenerational Household, obj\n",
    "    df['NOC'] = df['NOC'].astype(int)         # Number of children in household, int\n",
    "    df['NPP'] = df['NPP'].astype(object)         # Grandparent headed household w/ no parent present, obj\n",
    "    df['NR'] = df['NR'].astype(object)          # Presence of nonrelative in household, obj\n",
    "    df['NRC'] = df['NRC'].astype(int)         # Number of related children in household, int\n",
    "    df['PARTNER'] = df['PARTNER'].astype(object)     # Unmarried partner household, obj\n",
    "    df['PLM'] = df['PLM'].astype(object)         # Complete plumbing facilities, obj\n",
    "    df['PSF'] = df['PSF'].astype(object)         # Presence of subfamilies in Household, obj\n",
    "    df['R18'] = df['R18'].astype(object)         # Presence of persons under 18 years in household, obj\n",
    "    df['R60'] = df['R60'].astype(object)         # Presence of persons 60 years and over in household, obj\n",
    "    df['R65'] = df['R65'].astype(object)         # Presence of persons 65 years and over in household, obj\n",
    "    df['SSMC'] = df['SSMC'].astype(object)        # Same Sex Marriage Households, obj\n",
    "    df['SVAL'] = df['SVAL'].astype(object)        # Specifice value owner unit, obj\n",
    "    df['INTERNET'] = df['INTERNET'].astype(int)      # Flag indicator of internet service, obj\n",
    "    return df"
   ]
  },
  {
   "cell_type": "code",
   "execution_count": 31,
   "metadata": {
    "collapsed": true
   },
   "outputs": [],
   "source": [
    "df = specify_data_types(df)"
   ]
  },
  {
   "cell_type": "markdown",
   "metadata": {},
   "source": [
    "#### 910,225 rows remain for people who have specified yes or no to internet."
   ]
  },
  {
   "cell_type": "code",
   "execution_count": 36,
   "metadata": {
    "collapsed": false
   },
   "outputs": [
    {
     "data": {
      "text/plain": [
       "(910225, 38)"
      ]
     },
     "execution_count": 36,
     "metadata": {},
     "output_type": "execute_result"
    }
   ],
   "source": [
    "df.shape"
   ]
  },
  {
   "cell_type": "markdown",
   "metadata": {},
   "source": [
    "#### These columns were removed because a large amount of the data were NA's\n",
    "[ACR, BUS, INSP, MRGX, VALP, FES, FINCP, FPARC, FSMOCP, MV, NPF, OCPIP, SMOCP, TAXP, WIF, WKEXREL, WORKSTAT]"
   ]
  },
  {
   "cell_type": "markdown",
   "metadata": {},
   "source": [
    "### Categorical Variables"
   ]
  },
  {
   "cell_type": "markdown",
   "metadata": {},
   "source": [
    "#### Create Dummy Variables"
   ]
  },
  {
   "cell_type": "code",
   "execution_count": 2,
   "metadata": {
    "collapsed": false
   },
   "outputs": [],
   "source": [
    "df = pickle.load(open('households.p', 'rb'))"
   ]
  },
  {
   "cell_type": "code",
   "execution_count": 3,
   "metadata": {
    "collapsed": true
   },
   "outputs": [],
   "source": [
    "rows = random.sample(df.index, 20000)\n",
    "df_sample = df.ix[rows]\n",
    "df_test = df.drop(rows)\n"
   ]
  },
  {
   "cell_type": "code",
   "execution_count": 4,
   "metadata": {
    "collapsed": false
   },
   "outputs": [],
   "source": [
    "from patsy import dmatrices\n",
    "y, X = dmatrices('''INTERNET ~ \n",
    "                 C(REGION) + \n",
    "                 C(ST) + \n",
    "                 NP + \n",
    "                 C(TYPE) + \n",
    "                 C(BATH) +\n",
    "                 BDSP +\n",
    "                 C(BLD) + \n",
    "                 C(BROADBND) +\n",
    "                 C(FS) +\n",
    "                 C(HANDHELD) +\n",
    "                 C(LAPTOP) +\n",
    "                 RMSP +\n",
    "                 C(SINK) +\n",
    "                 C(STOV) +\n",
    "                 C(TEL) +\n",
    "                 C(TEN) +\n",
    "                 C(YBL) +\n",
    "                 C(HHL) +\n",
    "                 C(HHT) +\n",
    "                 HINCP +\n",
    "                 C(HUGCL) +\n",
    "                 C(HUPAC) +\n",
    "                 C(KIT) +\n",
    "                 C(LNGI) +\n",
    "                 C(MULTG) +\n",
    "                 NOC +\n",
    "                 C(NPP) +\n",
    "                 C(NR) +\n",
    "                 NRC +\n",
    "                 C(PARTNER) +\n",
    "                 C(PLM) +\n",
    "                 C(PSF) +\n",
    "                 C(R18) +\n",
    "                 C(R60) +\n",
    "                 C(R65) +\n",
    "                 C(SSMC) +\n",
    "                 C(SVAL) \n",
    "                 ''', df_sample, return_type = 'dataframe')\n",
    "\n"
   ]
  },
  {
   "cell_type": "code",
   "execution_count": 6,
   "metadata": {
    "collapsed": false
   },
   "outputs": [],
   "source": [
    "X_train, X_test, y_train, y_test = train_test_split(X, y, test_size=0.30, random_state=4444)"
   ]
  },
  {
   "cell_type": "code",
   "execution_count": 7,
   "metadata": {
    "collapsed": false
   },
   "outputs": [],
   "source": [
    "y_train = y_train.ix[:,'INTERNET'].ravel()\n",
    "X_train = scale(X_train)\n",
    "X_test = scale(X_test)"
   ]
  },
  {
   "cell_type": "code",
   "execution_count": 8,
   "metadata": {
    "collapsed": false
   },
   "outputs": [],
   "source": [
    "def test_random_forest_n_estimators_parameter(params):\n",
    "    x = []\n",
    "    y = []\n",
    "    z = []\n",
    "    for param in params:\n",
    "        x.append(param)\n",
    "        model = RandomForestClassifier(n_estimators = param)\n",
    "        fitted = model.fit(X_train, y_train)\n",
    "        #Training Accuracy\n",
    "        y.append(accuracy_score(y_train, fitted.predict(X_train)))\n",
    "        #Test Accuracy\n",
    "        z.append(accuracy_score(y_test, fitted.predict(X_test)))\n",
    "    tr, = plt.plot(x, y)\n",
    "    ts, = plt.plot(x, z)\n",
    "    plt.legend((tr, ts), ('Training Accuracy', 'Test Accuracy'), loc = 'best')\n",
    "    plt.xlabel('n_estimators')\n",
    "    plt.ylabel('Accuracy')"
   ]
  },
  {
   "cell_type": "code",
   "execution_count": 9,
   "metadata": {
    "collapsed": true
   },
   "outputs": [],
   "source": [
    "def test_random_forest_max_depth_parameter(params):\n",
    "    x = []\n",
    "    y = []\n",
    "    z = []\n",
    "    for param in params:\n",
    "        x.append(param)\n",
    "        model = RandomForestClassifier(max_depth = param)\n",
    "        fitted = model.fit(X_train, y_train)\n",
    "        #Training Accuracy\n",
    "        y.append(accuracy_score(y_train, fitted.predict(X_train)))\n",
    "        #Test Accuracy\n",
    "        z.append(accuracy_score(y_test, fitted.predict(X_test)))\n",
    "    tr, = plt.plot(x, y)\n",
    "    ts, = plt.plot(x, z)\n",
    "    plt.legend((tr, ts), ('Training Accuracy', 'Test Accuracy'), loc = 'best')\n",
    "    plt.xlabel('max_depth')\n",
    "    plt.ylabel('Accuracy')"
   ]
  },
  {
   "cell_type": "code",
   "execution_count": 10,
   "metadata": {
    "collapsed": true
   },
   "outputs": [],
   "source": [
    "def test_random_forest_min_samples_split_parameter(params):\n",
    "    x = []\n",
    "    y = []\n",
    "    z = []\n",
    "    for param in params:\n",
    "        x.append(param)\n",
    "        model = RandomForestClassifier(min_samples_split=param)\n",
    "        fitted = model.fit(X_train, y_train)\n",
    "        #Training Accuracy\n",
    "        y.append(accuracy_score(y_train, fitted.predict(X_train)))\n",
    "        #Test Accuracy\n",
    "        z.append(accuracy_score(y_test, fitted.predict(X_test)))\n",
    "    tr, = plt.plot(x, y)\n",
    "    ts, = plt.plot(x, z)\n",
    "    plt.legend((tr, ts), ('Training Accuracy', 'Test Accuracy'), loc = 'best')\n",
    "    plt.xlabel('min_samples_split')\n",
    "    plt.ylabel('Accuracy')"
   ]
  },
  {
   "cell_type": "code",
   "execution_count": 11,
   "metadata": {
    "collapsed": true
   },
   "outputs": [],
   "source": [
    "def test_Gaussian_NB_estimators():\n",
    "    model = GaussianNB()\n",
    "    fitted = model.fit(X_train, y_train)\n",
    "    #Training Accuracy\n",
    "    y = (accuracy_score(y_train, fitted.predict(X_train)))\n",
    "    #Test Accuracy\n",
    "    z = (accuracy_score(y_test, fitted.predict(X_test)))\n",
    "    tr, = plt.plot(range(1,20), [y] * 19)\n",
    "    ts, = plt.plot(range(1,20), [z] * 19)\n",
    "    plt.legend((tr, ts), ('Training Accuracy', 'Test Accuracy'), loc = 'best')\n",
    "    plt.xlabel('Gaussian_NB')\n",
    "    plt.ylabel('Accuracy')"
   ]
  },
  {
   "cell_type": "code",
   "execution_count": 12,
   "metadata": {
    "collapsed": true
   },
   "outputs": [],
   "source": [
    "def test_KNN_test_parameter(params):\n",
    "    x = []\n",
    "    y = []\n",
    "    z = []\n",
    "    for param in params:\n",
    "        x.append(param)\n",
    "        model = KNeighborsClassifier(n_neighbors = param)\n",
    "        fitted = model.fit(X_train, y_train)\n",
    "        #Training Accuracy\n",
    "        y.append(accuracy_score(y_train, fitted.predict(X_train)))\n",
    "        #Test Accuracy\n",
    "        z.append(accuracy_score(y_test, fitted.predict(X_test)))\n",
    "    tr, = plt.plot(x, y)\n",
    "    ts, = plt.plot(x, z)\n",
    "    plt.legend((tr, ts), ('Training Accuracy', 'Test Accuracy'), loc = 'best')\n",
    "    plt.xlabel('# Neighbors')\n",
    "    plt.ylabel('Accuracy')"
   ]
  },
  {
   "cell_type": "code",
   "execution_count": 30,
   "metadata": {
    "collapsed": true
   },
   "outputs": [],
   "source": [
    "def test_SVM_test_C_parameter(params):\n",
    "    x = []\n",
    "    y = []\n",
    "    z = []\n",
    "    for param in params:\n",
    "        x.append(param)\n",
    "        model = SVC(C = param, kernel = 'linear')\n",
    "        fitted = model.fit(X_train, y_train)\n",
    "        #Training Accuracy\n",
    "        y.append(accuracy_score(y_train, fitted.predict(X_train)))\n",
    "        #Test Accuracy\n",
    "        z.append(accuracy_score(y_test, fitted.predict(X_test)))\n",
    "    tr, = plt.plot(x, y)\n",
    "    ts, = plt.plot(x, z)\n",
    "    plt.legend((tr, ts), ('Training Accuracy', 'Test Accuracy'), loc = 'best')\n",
    "    plt.xlabel('C')\n",
    "    plt.ylabel('Accuracy')"
   ]
  },
  {
   "cell_type": "code",
   "execution_count": 31,
   "metadata": {
    "collapsed": true
   },
   "outputs": [],
   "source": [
    "def test_SVM_rbf_test_C_parameter(params):\n",
    "    x = []\n",
    "    y = []\n",
    "    z = []\n",
    "    for param in params:\n",
    "        x.append(param)\n",
    "        model = SVC(C = param, kernel = 'rbf')\n",
    "        fitted = model.fit(X_train, y_train)\n",
    "        #Training Accuracy\n",
    "        y.append(accuracy_score(y_train, fitted.predict(X_train)))\n",
    "        #Test Accuracy\n",
    "        z.append(accuracy_score(y_test, fitted.predict(X_test)))\n",
    "    tr, = plt.plot(x, y)\n",
    "    ts, = plt.plot(x, z)\n",
    "    plt.legend((tr, ts), ('Training Accuracy', 'Test Accuracy'), loc = 'best')\n",
    "    plt.xlabel('C')\n",
    "    plt.ylabel('Accuracy')"
   ]
  },
  {
   "cell_type": "code",
   "execution_count": 17,
   "metadata": {
    "collapsed": true
   },
   "outputs": [],
   "source": [
    "def test_decision_tree_min_samples_split_parameter(params):\n",
    "    x = []\n",
    "    y = []\n",
    "    z = []\n",
    "    for param in params:\n",
    "        x.append(param)\n",
    "        model = DecisionTreeClassifier(min_samples_split = param)\n",
    "        fitted = model.fit(X_train, y_train)\n",
    "        #Training Accuracy\n",
    "        y.append(accuracy_score(y_train, fitted.predict(X_train)))\n",
    "        #Test Accuracy\n",
    "        z.append(accuracy_score(y_test, fitted.predict(X_test)))\n",
    "    tr, = plt.plot(x, y)\n",
    "    ts, = plt.plot(x, z)\n",
    "    plt.legend((tr, ts), ('Training Accuracy', 'Test Accuracy'), loc = 'best')\n",
    "    plt.xlabel('Min Samples Split')\n",
    "    plt.ylabel('Accuracy')"
   ]
  },
  {
   "cell_type": "markdown",
   "metadata": {},
   "source": [
    "#### Choose 5 estimators"
   ]
  },
  {
   "cell_type": "code",
   "execution_count": 24,
   "metadata": {
    "collapsed": false
   },
   "outputs": [
    {
     "data": {
      "image/png": "[encoded data removed]",
      "text/plain": [
       "<matplotlib.figure.Figure at 0x109d656d0>"
      ]
     },
     "metadata": {},
     "output_type": "display_data"
    }
   ],
   "source": [
    "test_random_forest_n_estimators_parameter(range(1,20))"
   ]
  },
  {
   "cell_type": "markdown",
   "metadata": {},
   "source": [
    "#### Choose max_depth of 16"
   ]
  },
  {
   "cell_type": "code",
   "execution_count": 25,
   "metadata": {
    "collapsed": false,
    "scrolled": true
   },
   "outputs": [
    {
     "data": {
      "image/png": "[encoded data removed]",
      "text/plain": [
       "<matplotlib.figure.Figure at 0x10aa6a790>"
      ]
     },
     "metadata": {},
     "output_type": "display_data"
    }
   ],
   "source": [
    "test_random_forest_max_depth_parameter(range(1,20))"
   ]
  },
  {
   "cell_type": "markdown",
   "metadata": {},
   "source": [
    "#### Choose 4 min samples split"
   ]
  },
  {
   "cell_type": "code",
   "execution_count": 26,
   "metadata": {
    "collapsed": false
   },
   "outputs": [
    {
     "data": {
      "image/png": "[encoded data removed]",
      "text/plain": [
       "<matplotlib.figure.Figure at 0x10abcab10>"
      ]
     },
     "metadata": {},
     "output_type": "display_data"
    }
   ],
   "source": [
    "test_random_forest_min_samples_split_parameter(range(2, 20))"
   ]
  },
  {
   "cell_type": "code",
   "execution_count": 27,
   "metadata": {
    "collapsed": false,
    "scrolled": true
   },
   "outputs": [
    {
     "data": {
      "image/png": "[encoded data removed]",
      "text/plain": [
       "<matplotlib.figure.Figure at 0x109fb5310>"
      ]
     },
     "metadata": {},
     "output_type": "display_data"
    }
   ],
   "source": [
    "test_Gaussian_NB_estimators()"
   ]
  },
  {
   "cell_type": "code",
   "execution_count": 28,
   "metadata": {
    "collapsed": false
   },
   "outputs": [
    {
     "data": {
      "image/png": "[encoded data removed]",
      "text/plain": [
       "<matplotlib.figure.Figure at 0x10b098c50>"
      ]
     },
     "metadata": {},
     "output_type": "display_data"
    }
   ],
   "source": [
    "test_KNN_test_parameter(range(1, 20))"
   ]
  },
  {
   "cell_type": "code",
   "execution_count": null,
   "metadata": {
    "collapsed": false,
    "scrolled": true
   },
   "outputs": [],
   "source": [
    "test_SVM_test_C_parameter([.1, 1, 10])"
   ]
  },
  {
   "cell_type": "code",
   "execution_count": null,
   "metadata": {
    "collapsed": false
   },
   "outputs": [
    {
     "data": {
      "image/png": "[encoded data removed]",
      "text/plain": [
       "<matplotlib.figure.Figure at 0x10aaf0fd0>"
      ]
     },
     "metadata": {},
     "output_type": "display_data"
    }
   ],
   "source": [
    "test_SVM_rbf_test_C_parameter([.1, 1, 10])"
   ]
  },
  {
   "cell_type": "code",
   "execution_count": 21,
   "metadata": {
    "collapsed": false
   },
   "outputs": [
    {
     "data": {
      "image/png": "[encoded data removed]",
      "text/plain": [
       "<matplotlib.figure.Figure at 0x10af824d0>"
      ]
     },
     "metadata": {},
     "output_type": "display_data"
    }
   ],
   "source": [
    "test_decision_tree_min_samples_split_parameter(range(1,100))"
   ]
  },
  {
   "cell_type": "code",
   "execution_count": null,
   "metadata": {
    "collapsed": false
   },
   "outputs": [],
   "source": [
    "tuned_parameters = [{'kernel': ['rbf'], 'gamma': [1e-3, 1e-4],\n",
    "                     'C': [1, 10, 100, 1000]},\n",
    "                    {'kernel': ['linear'], 'C': [1, 10, 100, 1000]}]\n",
    "\n",
    "scores = ['precision', 'recall', 'accuracy', 'f1']\n",
    "\n",
    "for score in scores:\n",
    "    print(\"# Tuning hyper-parameters for %s\" % score)\n",
    "    print()\n",
    "\n",
    "    clf = GridSearchCV(SVC(C=1), tuned_parameters, cv=5, scoring=score)\n",
    "    clf.fit(X_train, y_train)\n",
    "\n",
    "    print(\"Best parameters set found on development set:\")\n",
    "    print()\n",
    "    print(clf.best_estimator_)\n",
    "    print()\n",
    "    print(\"Grid scores on development set:\")\n",
    "    print()\n",
    "    for params, mean_score, scores in clf.grid_scores_:\n",
    "        print(\"%0.3f (+/-%0.03f) for %r\"\n",
    "              % (mean_score, scores.std() / 2, params))\n",
    "    print()\n",
    "\n",
    "    print(\"Detailed classification report:\")\n",
    "    print()\n",
    "    print(\"The model is trained on the full development set.\")\n",
    "    print(\"The scores are computed on the full evaluation set.\")\n",
    "    print()\n",
    "    y_true, y_pred = y_test, clf.predict(X_test)\n",
    "    print(classification_report(y_true, y_pred))\n",
    "    print()\n"
   ]
  },
  {
   "cell_type": "code",
   "execution_count": null,
   "metadata": {
    "collapsed": true
   },
   "outputs": [],
   "source": [
    "print 'Accuracy: %s' % cross_val_score(KNeighborsClassifier(n_neighbors = 6), X_train, y_train, scoring = 'accuracy', cv = 10).mean()\n",
    "print 'Precision: %s' % cross_val_score(KNeighborsClassifier(n_neighbors = 6), X_train, y_train, scoring = 'precision', cv = 10).mean()\n",
    "print 'Recall: %s' % cross_val_score(KNeighborsClassifier(n_neighbors = 6), X_train, y_train, scoring = 'recall_weighted', cv = 10).mean()\n",
    "print 'F1: %s' % cross_val_score(KNeighborsClassifier(n_neighbors = 6), X_train, y_train, scoring = 'f1', cv = 10).mean()"
   ]
  }
 ],
 "metadata": {
  "kernelspec": {
   "display_name": "Python 2",
   "language": "python",
   "name": "python2"
  },
  "language_info": {
   "codemirror_mode": {
    "name": "ipython",
    "version": 2
   },
   "file_extension": ".py",
   "mimetype": "text/x-python",
   "name": "python",
   "nbconvert_exporter": "python",
   "pygments_lexer": "ipython2",
   "version": "2.7.10"
  }
 },
 "nbformat": 4,
 "nbformat_minor": 0
}
