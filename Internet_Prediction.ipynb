{
 "cells": [
  {
   "cell_type": "code",
   "execution_count": 1,
   "metadata": {
    "collapsed": true
   },
   "outputs": [],
   "source": [
    "%matplotlib inline\n",
    "import pandas as pd"
   ]
  },
  {
   "cell_type": "markdown",
   "metadata": {},
   "source": [
    "#### Append the two data sets"
   ]
  },
  {
   "cell_type": "code",
   "execution_count": 2,
   "metadata": {
    "collapsed": true
   },
   "outputs": [],
   "source": [
    "df1 = pd.read_csv('ss13husa.csv')\n",
    "df2 = pd.read_csv('ss13husb.csv')\n",
    "df = df1.append(df2)"
   ]
  },
  {
   "cell_type": "markdown",
   "metadata": {},
   "source": [
    "### Check that the lengths of the datasets"
   ]
  },
  {
   "cell_type": "markdown",
   "metadata": {},
   "source": [
    "#### See how many columns are in the dataset"
   ]
  },
  {
   "cell_type": "markdown",
   "metadata": {},
   "source": [
    "#### Preliminary Feature Selection"
   ]
  },
  {
   "cell_type": "markdown",
   "metadata": {},
   "source": [
    "#### Extract features that relate to hving internet"
   ]
  },
  {
   "cell_type": "code",
   "execution_count": 3,
   "metadata": {
    "collapsed": false
   },
   "outputs": [],
   "source": [
    "internet_features = ['DIALUP','DSL', 'FIBEROP', 'MODEM', 'OTHSVCEX', 'SATELLITE']"
   ]
  },
  {
   "cell_type": "code",
   "execution_count": 4,
   "metadata": {
    "collapsed": false
   },
   "outputs": [],
   "source": [
    "# Condition which represents having some form of internet service\n",
    "dsl_true = df['DSL'] == 1\n",
    "dialup_true = df['DIALUP'] == 1\n",
    "satellite_true = df['SATELLITE'] == 1\n",
    "other_true = df['OTHSVCEX'] == 1\n",
    "modem_true = df['MODEM'] == 1\n",
    "fiber_true = df['FIBEROP'] == 1\n",
    "internet_true = dsl_true | dialup_true | satellite_true | other_true | modem_true | fiber_true\n",
    "# Condition which represent having no form of internet service\n",
    "dsl_false = df['DSL'] == 2\n",
    "dialup_false = df['DIALUP'] == 2\n",
    "satellite_false = df['SATELLITE'] == 2\n",
    "other_false = df['OTHSVCEX'] == 2\n",
    "modem_false = df['MODEM'] == 2\n",
    "fiber_false = df['FIBEROP'] == 2\n",
    "internet_false = dsl_false & dialup_false & satellite_false & other_false & modem_false & fiber_false\n",
    "\n"
   ]
  },
  {
   "cell_type": "code",
   "execution_count": 5,
   "metadata": {
    "collapsed": true
   },
   "outputs": [],
   "source": [
    "df['INTERNET'] = 1\n",
    "df['INTERNET'] = df['INTERNET'].where(internet_true, other = 0)"
   ]
  },
  {
   "cell_type": "code",
   "execution_count": 6,
   "metadata": {
    "collapsed": false,
    "scrolled": true
   },
   "outputs": [],
   "source": [
    "\n",
    "features = [#'RT',          # Record Type\n",
    " #'SERIALNO',    # Housing Unit Serial No.\n",
    " #'DIVISION',    # Division Code\n",
    " #'PUMA',        # Public Use Microdata Area Code\n",
    " 'REGION',      # Region\n",
    " 'ST',          # State Code\n",
    " #'ADJHSG',     # Adjustment factor for Housing\n",
    " #'ADJINC',     # Inflation adjustment for Income\n",
    " #'WGTP',       # Housing Weight\n",
    " 'NP',          # Number of person records following this household\n",
    " 'TYPE',        # Type of Unit \n",
    "\n",
    " #'ACR',         # Lot Size\n",
    " #'AGS',        # Sales of Agriculture Products\n",
    " 'BATH',        # Bathtub or Shower\n",
    " 'BDSP',        # Number of bedrooms\n",
    " 'BLD',         # Units in Structure\n",
    " 'BROADBND',    # Mobile Broadband Plan\n",
    " #'BUS',         # Business or medical office on property\n",
    " #'COMPOTHX',   # Other computer equipment\n",
    " #'CONP',       # Condo Fee\n",
    "\n",
    " #'ELEP',       # Electricity Monthly Cost\n",
    "\n",
    " 'FS',          # Yearly Food Stamp Recipiency\n",
    " #'FULP',       # Fuel Cost (other than gas and elec)\n",
    " #'GASP',       # Monthly Gas Cost\n",
    " 'HANDHELD',    # Handheld Computer\n",
    " #'HFL',        # House Heating Fuel\n",
    " #'INSP',       # Fire/Hazard/Flood Insurance\n",
    " 'LAPTOP',      # Laptop?\n",
    " #'MHP',        # Mobile Home Costs\n",
    "\n",
    " #'MRGI',       # First Mortgage includes fire/hazard/flood insurance\n",
    " #'MRGP',       # First Mortgage Payment\n",
    " #'MRGT',       # First Mortgage Payment includes real estate taxes\n",
    " #'MRGX',       # First Mortgage Status\n",
    "\n",
    " #'REFR',       # Refridgerator\n",
    " 'RMSP',        # Number of Rooms\n",
    " #'RNTM',        # Meals included in rent\n",
    " #'RNTP',        # Monthly Rent\n",
    " #'RWAT',       # Hot and Cold Water Running\n",
    " #'RWATPR',     # Running Water\n",
    "\n",
    " 'SINK',        # Sink with a Faucet\n",
    " #'SMP',        # Total payment on all second and junior mortgages\n",
    " 'STOV',        # Stove or Range\n",
    " 'TEL',         # Telephone\n",
    " 'TEN',         # Tenure\n",
    " #'TOIL',       # Flush Toilet\n",
    " #'VACS',        # Vacancy Status\n",
    " #'VALP',        # Property Value\n",
    " #'VEH',        # Vehicles Available\n",
    " #'WATP',       # Water Yearly Cost\n",
    " 'YBL',         # When Structure first built\n",
    " #'FES',         # Family Type and Employment Status\n",
    " #'FFINCP',      # Family income allocation flag      \n",
    " #'FGRNTP',      # Yearly food stamp allocation flag\n",
    " #'FHINCP',      # Household income allocation flag\n",
    " #'FINCP',       # Family Income\n",
    " #'FPARC',       # Family presence and age of related children\n",
    " #'FSMOCP',      # Selected monthly owner cost allocation flag\n",
    " #'GRNTP',       # Gross Rent\n",
    " #'GRPIP',       # Gross rent as a percentage of household income\n",
    " 'HHL',         # Household Language\n",
    " 'HHT',         # Household/family Type\n",
    " 'HINCP',       # Household income (past 12 months)\n",
    " 'HUGCL',       # Household w/ grandparent living w/ grandchildren\n",
    " 'HUPAC',       # Children Present\n",
    " #'HUPAOC',     # HH presence and age of own children\n",
    " #'HUPARC',     # HH presence and age of related children\n",
    " 'KIT',         # Complete kitchen facilities\n",
    " 'LNGI',        # Limited English Speaking Households\n",
    " 'MULTG',       # Multigenerational Household\n",
    " #'MV',          # When moved into this house or apartment\n",
    " 'NOC',         # Number of children in household\n",
    " #'NPF',         # Number of persons in family\n",
    " 'NPP',         # Grandparent headed household w/ no parent present\n",
    " 'NR',          # Presence of nonrelative in household\n",
    " 'NRC',         # Number of related children in household\n",
    " #'OCPIP',       # Selected monthly owner costs as a percentage of household income\n",
    " 'PARTNER',     # Unmarried partner household\n",
    " 'PLM',         # Complete plumbing facilities\n",
    " 'PSF',         # Presence of subfamilies in Household\n",
    " 'R18',         # Presence of persons under 18 years in household\n",
    " 'R60',         # Presence of persons 60 years and over in household\n",
    " 'R65',         # Presence of persons 65 years and over in household\n",
    " #'RESMODE',    # Response Mode\n",
    " #'SMOCP',      # Selected Monthly Owner Costs\n",
    " #'SMX',        # Second or junior mortgage home equity loan status\n",
    " #'SRNT',       # Specified Rent Unit\n",
    " 'SSMC',        # Same Sex Marriage Households\n",
    " 'SVAL',        # Specifice value owner unit\n",
    " #'TAXP',        # Property Taxes (yearly)\n",
    " #'WIF',         # Workers in family during past 12 months\n",
    " #'WKEXREL'     # Work experience of householder or spouse\n",
    " #'WORKSTAT'    # Work status of householder or spouse in family households\n",
    " #'ACCESS',      # Access to the Internet\n",
    " #'DIALUP',      # Dial-up Service\n",
    " #'DSL',         # DSL Service\n",
    " #'FIBEROP',     # Fiber-optic Internet Service\n",
    " #'MODEM',       # Cable Internet Service\n",
    " #'OTHSVCEX',   # Other internet services\n",
    " #'SATELLITE',   # Satellite Internet Service\n",
    " 'INTERNET'     # Flag indicator of internet service\n",
    "]"
   ]
  },
  {
   "cell_type": "code",
   "execution_count": 7,
   "metadata": {
    "collapsed": false,
    "scrolled": true
   },
   "outputs": [],
   "source": [
    "df = df[features].dropna()"
   ]
  },
  {
   "cell_type": "code",
   "execution_count": 8,
   "metadata": {
    "collapsed": true
   },
   "outputs": [],
   "source": [
    "df['REGION'] = df['REGION'].astype(object)      # Region, obj\n",
    "df['ST'] = df['ST'].astype(object)          # State Code, obj\n",
    "df['NP'] = df['NP'].astype(int)          # Number of person records following this household, int\n",
    "df['TYPE'] = df['TYPE'].astype(object)        # Type of Unit, obj \n",
    "df['BATH'] = df['BATH'].astype(object)        # Bathtub or Shower, obj\n",
    "df['BDSP'] = df['BDSP'].astype(int)        # Number of bedrooms, int\n",
    "df['BLD'] = df['BLD'].astype(object)         # Units in Structure, obj\n",
    "df['BROADBND'] = df['BROADBND'].astype(object)    # Mobile Broadband Plan, obj\n",
    "df['FS'] = df['FS'].astype(object)          # Yearly Food Stamp Recipiency, obj\n",
    "df['HANDHELD'] = df['HANDHELD'].astype(object)    # Handheld Computer, obj\n",
    "df['LAPTOP'] = df['LAPTOP'].astype(object)      # Laptop?, obj\n",
    "df['RMSP'] = df['RMSP'].astype(int)        # Number of Rooms, int\n",
    "df['SINK'] = df['SINK'].astype(object)        # Sink with a Faucet, obj\n",
    "df['STOV'] = df['STOV'].astype(object)        # Stove or Range, obj\n",
    "df['TEL'] = df['TEL'].astype(object)         # Telephone, obj\n",
    "df['TEN'] = df['TEN'].astype(object)         # Tenure, obj\n",
    "df['YBL'] = df['YBL'].astype(object)         # When Structure first built, obj\n",
    "df['HHL'] = df['HHL'].astype(object)         # Household Language, obj\n",
    "df['HHT'] = df['HHT'].astype(object)         # Household/family Type, obj\n",
    "df['HINCP'] = df['HINCP'].astype(float)       # Household income (past 12 months), float\n",
    "df['HUGCL'] = df['HUGCL'].astype(object)       # Household w/ grandparent living w/ grandchildren, obj\n",
    "df['HUPAC'] = df['HUPAC'].astype(object)       # Children Present, obj\n",
    "df['KIT'] = df['KIT'].astype(object)         # Complete kitchen facilities, obj\n",
    "df['LNGI'] = df['LNGI'].astype(object)        # Limited English Speaking Households, obj\n",
    "df['MULTG'] = df['MULTG'].astype(object)       # Multigenerational Household, obj\n",
    "df['NOC'] = df['NOC'].astype(int)         # Number of children in household, int\n",
    "df['NPP'] = df['NPP'].astype(object)         # Grandparent headed household w/ no parent present, obj\n",
    "df['NR'] = df['NR'].astype(object)          # Presence of nonrelative in household, obj\n",
    "df['NRC'] = df['NRC'].astype(int)         # Number of related children in household, int\n",
    "df['PARTNER'] = df['PARTNER'].astype(object)     # Unmarried partner household, obj\n",
    "df['PLM'] = df['PLM'].astype(object)         # Complete plumbing facilities, obj\n",
    "df['PSF'] = df['PSF'].astype(object)         # Presence of subfamilies in Household, obj\n",
    "df['R18'] = df['R18'].astype(object)         # Presence of persons under 18 years in household, obj\n",
    "df['R60'] = df['R60'].astype(object)         # Presence of persons 60 years and over in household, obj\n",
    "df['R65'] = df['R65'].astype(object)         # Presence of persons 65 years and over in household, obj\n",
    "df['SSMC'] = df['SSMC'].astype(object)        # Same Sex Marriage Households, obj\n",
    "df['SVAL'] = df['SVAL'].astype(object)        # Specifice value owner unit, obj\n",
    "df['INTERNET'] = df['INTERNET'].astype(int)      # Flag indicator of internet service, obj\n"
   ]
  },
  {
   "cell_type": "markdown",
   "metadata": {},
   "source": [
    "#### 910,225 rows remain for people who have specified yes or no to internet."
   ]
  },
  {
   "cell_type": "markdown",
   "metadata": {},
   "source": [
    "#### The removal of columns with lots of NA's\n",
    "[ACR, BUS, INSP, MRGX, VALP, FES, FINCP, FPARC, FSMOCP, MV, NPF, OCPIP, SMOCP, TAXP, WIF, WKEXREL, WORKSTAT]"
   ]
  },
  {
   "cell_type": "code",
   "execution_count": 9,
   "metadata": {
    "collapsed": false,
    "scrolled": true
   },
   "outputs": [
    {
     "data": {
      "text/plain": [
       "(910225, 38)"
      ]
     },
     "execution_count": 9,
     "metadata": {},
     "output_type": "execute_result"
    }
   ],
   "source": [
    "df.shape"
   ]
  },
  {
   "cell_type": "code",
   "execution_count": 10,
   "metadata": {
    "collapsed": false
   },
   "outputs": [],
   "source": [
    "%matplotlib inline\n",
    "import pandas as pd\n",
    "import numpy as np\n",
    "import matplotlib.pyplot as plt\n",
    "from sklearn.cross_validation import train_test_split\n",
    "from sklearn.grid_search import GridSearchCV\n",
    "from sklearn.metrics import classification_report\n",
    "from sklearn.metrics import roc_auc_score\n",
    "from sklearn.metrics import roc_curve\n",
    "from sklearn.metrics import accuracy_score\n",
    "from sklearn.learning_curve import learning_curve\n",
    "from sklearn.preprocessing import label_binarize\n",
    "from sklearn.preprocessing import OneHotEncoder\n",
    "from sklearn.preprocessing import LabelEncoder\n",
    "from sklearn.preprocessing import MinMaxScaler\n",
    "from sklearn.preprocessing import scale\n",
    "from sklearn.ensemble import RandomForestClassifier\n",
    "from sklearn.naive_bayes import GaussianNB\n",
    "from sklearn.neighbors import KNeighborsClassifier\n",
    "from sklearn.svm import SVC\n",
    "from sklearn.tree import DecisionTreeClassifier\n",
    "from sklearn.ensemble import RandomForestClassifier\n",
    "from patsy import dmatrices\n",
    "\n",
    "\n"
   ]
  },
  {
   "cell_type": "markdown",
   "metadata": {},
   "source": [
    "### Categorical Variables"
   ]
  },
  {
   "cell_type": "code",
   "execution_count": 11,
   "metadata": {
    "collapsed": true
   },
   "outputs": [],
   "source": [
    "# cat_df = pd.get_dummies(df['REGION'], prefix = 'REGION')\n",
    "# cat_df = cat_df.join(pd.get_dummies(df['ST'] , prefix = 'ST'), how = 'inner')\n",
    "# cat_df = cat_df.join(pd.get_dummies(df['TYPE'], prefix = 'TYPE'), how = 'inner')\n",
    "# cat_df = cat_df.join(pd.get_dummies(df['BATH'], prefix = 'BATH'), how = 'inner')\n",
    "# cat_df = cat_df.join(pd.get_dummies(df['BLD'], prefix = 'BLD'), how = 'inner')\n",
    "# cat_df = cat_df.join(pd.get_dummies(df['BROADBND'], prefix = 'BROADBND'), how = 'inner')\n",
    "# cat_df = cat_df.join(pd.get_dummies(df['FS'] , prefix = 'FS'), how = 'inner')\n",
    "# cat_df = cat_df.join(pd.get_dummies(df['HANDHELD'] , prefix = 'HANDHELD'), how = 'inner')\n",
    "# cat_df = cat_df.join(pd.get_dummies(df['LAPTOP'] , prefix = 'LAPTOP'), how = 'inner')\n",
    "# cat_df = cat_df.join(pd.get_dummies(df['SINK'] , prefix = 'SINK'), how = 'inner')\n",
    "# cat_df = cat_df.join(pd.get_dummies(df['STOV'] , prefix = 'STOV'), how = 'inner')\n",
    "# cat_df = cat_df.join(pd.get_dummies(df['TEL'] , prefix = 'TEL'), how = 'inner')\n",
    "# cat_df = cat_df.join(pd.get_dummies(df['TEN'] , prefix = 'TEN'), how = 'inner')\n",
    "# cat_df = cat_df.join(pd.get_dummies(df['YBL'] , prefix = 'YBL'), how = 'inner')\n",
    "# cat_df = cat_df.join(pd.get_dummies(df['HHL'] , prefix = 'HHL'), how = 'inner')\n",
    "# cat_df = cat_df.join(pd.get_dummies(df['HHT'] , prefix = 'HHT'), how = 'inner')\n",
    "# cat_df = cat_df.join(pd.get_dummies(df['HUGCL'] , prefix = 'HUGCL'), how = 'inner')\n",
    "# cat_df = cat_df.join(pd.get_dummies(df['HUPAC'] , prefix = 'HUPAC'), how = 'inner')\n",
    "# cat_df = cat_df.join(pd.get_dummies(df['KIT'] , prefix = 'KIT'), how = 'inner')\n",
    "# cat_df = cat_df.join(pd.get_dummies(df['LNGI'] , prefix = 'LNGI'), how = 'inner')\n",
    "# cat_df = cat_df.join(pd.get_dummies(df['MULTG'] , prefix = 'MULTG'), how = 'inner')\n",
    "# cat_df = cat_df.join(pd.get_dummies(df['NPP'] , prefix = 'NPP'), how = 'inner')\n",
    "# cat_df = cat_df.join(pd.get_dummies(df['NR'] , prefix = 'NR'), how = 'inner')\n",
    "# cat_df = cat_df.join(pd.get_dummies(df['PARTNER'] , prefix = 'PARTNER'), how = 'inner')\n",
    "# cat_df = cat_df.join(pd.get_dummies(df['PLM'] , prefix = 'PLM'), how = 'inner')\n",
    "# cat_df = cat_df.join(pd.get_dummies(df['PSF'] , prefix = 'PSF'), how = 'inner')\n",
    "# cat_df = cat_df.join(pd.get_dummies(df['R18'] , prefix = 'R18'), how = 'inner')\n",
    "# cat_df = cat_df.join(pd.get_dummies(df['R60'] , prefix = 'R60'), how = 'inner')\n",
    "# cat_df = cat_df.join(pd.get_dummies(df['R65'] , prefix = 'R65'), how = 'inner')\n",
    "# cat_df = cat_df.join(pd.get_dummies(df['SSMC'] , prefix = 'SSMC'), how = 'inner')\n",
    "# cat_df = cat_df.join(pd.get_dummies(df['SVAL'] , prefix = 'SSVAL'), how = 'inner')"
   ]
  },
  {
   "cell_type": "markdown",
   "metadata": {},
   "source": [
    "#### Create Dummy Variables"
   ]
  },
  {
   "cell_type": "code",
   "execution_count": 12,
   "metadata": {
    "collapsed": false
   },
   "outputs": [],
   "source": [
    "from patsy import dmatrices\n",
    "y, X = dmatrices('''INTERNET ~ \n",
    "                 C(REGION) + \n",
    "                 C(ST) + \n",
    "                 NP + \n",
    "                 C(TYPE) + \n",
    "                 C(BATH) +\n",
    "                 BDSP +\n",
    "                 C(BLD) + \n",
    "                 C(BROADBND) +\n",
    "                 C(FS) +\n",
    "                 C(HANDHELD) +\n",
    "                 C(LAPTOP) +\n",
    "                 RMSP +\n",
    "                 C(SINK) +\n",
    "                 C(STOV) +\n",
    "                 C(TEL) +\n",
    "                 C(TEN) +\n",
    "                 C(YBL) +\n",
    "                 C(HHL) +\n",
    "                 C(HHT) +\n",
    "                 HINCP +\n",
    "                 C(HUGCL) +\n",
    "                 C(HUPAC) +\n",
    "                 C(KIT) +\n",
    "                 C(LNGI) +\n",
    "                 C(MULTG) +\n",
    "                 NOC +\n",
    "                 C(NPP) +\n",
    "                 C(NR) +\n",
    "                 NRC +\n",
    "                 C(PARTNER) +\n",
    "                 C(PLM) +\n",
    "                 C(PSF) +\n",
    "                 C(R18) +\n",
    "                 C(R60) +\n",
    "                 C(R65) +\n",
    "                 C(SSMC) +\n",
    "                 C(SVAL) \n",
    "                 ''', df, return_type = 'dataframe')\n",
    "\n"
   ]
  },
  {
   "cell_type": "code",
   "execution_count": 13,
   "metadata": {
    "collapsed": false
   },
   "outputs": [],
   "source": [
    "X_train, X_test, y_train, y_test = train_test_split(X, y, test_size=0.30, random_state=4444)\n"
   ]
  },
  {
   "cell_type": "code",
   "execution_count": 14,
   "metadata": {
    "collapsed": false
   },
   "outputs": [],
   "source": [
    "y_train = y_train.ix[:,'INTERNET'].ravel()\n",
    "X_train = scale(X_train)\n",
    "X_test = scale(X_test)"
   ]
  },
  {
   "cell_type": "code",
   "execution_count": 15,
   "metadata": {
    "collapsed": false
   },
   "outputs": [],
   "source": [
    "def test_random_forest_n_estimators_parameter(params):\n",
    "    x = []\n",
    "    y = []\n",
    "    z = []\n",
    "    for param in params:\n",
    "        x.append(param)\n",
    "        model = RandomForestClassifier(n_estimators = param)\n",
    "        fitted = model.fit(X_train, y_train)\n",
    "        #Training Accuracy\n",
    "        y.append(accuracy_score(y_train, fitted.predict(X_train)))\n",
    "        #Test Accuracy\n",
    "        z.append(accuracy_score(y_test, fitted.predict(X_test)))\n",
    "    tr, = plt.plot(x, y)\n",
    "    ts, = plt.plot(x, z)\n",
    "    plt.legend((tr, ts), ('Training Accuracy', 'Test Accuracy'), loc = 'best')\n",
    "    plt.xlabel('n_estimators')\n",
    "    plt.ylabel('Accuracy')"
   ]
  },
  {
   "cell_type": "code",
   "execution_count": 16,
   "metadata": {
    "collapsed": true
   },
   "outputs": [],
   "source": [
    "def test_random_forest_max_depth_parameter(params):\n",
    "    x = []\n",
    "    y = []\n",
    "    z = []\n",
    "    for param in params:\n",
    "        x.append(param)\n",
    "        model = RandomForestClassifier(max_depth = param)\n",
    "        fitted = model.fit(X_train, y_train)\n",
    "        #Training Accuracy\n",
    "        y.append(accuracy_score(y_train, fitted.predict(X_train)))\n",
    "        #Test Accuracy\n",
    "        z.append(accuracy_score(y_test, fitted.predict(X_test)))\n",
    "    tr, = plt.plot(x, y)\n",
    "    ts, = plt.plot(x, z)\n",
    "    plt.legend((tr, ts), ('Training Accuracy', 'Test Accuracy'), loc = 'best')\n",
    "    plt.xlabel('max_depth')\n",
    "    plt.ylabel('Accuracy')"
   ]
  },
  {
   "cell_type": "code",
   "execution_count": 17,
   "metadata": {
    "collapsed": true
   },
   "outputs": [],
   "source": [
    "def test_random_forest_min_samples_split_parameter(params):\n",
    "    x = []\n",
    "    y = []\n",
    "    z = []\n",
    "    for param in params:\n",
    "        x.append(param)\n",
    "        model = RandomForestClassifier(min_samples_split=param)\n",
    "        fitted = model.fit(X_train, y_train)\n",
    "        #Training Accuracy\n",
    "        y.append(accuracy_score(y_train, fitted.predict(X_train)))\n",
    "        #Test Accuracy\n",
    "        z.append(accuracy_score(y_test, fitted.predict(X_test)))\n",
    "    tr, = plt.plot(x, y)\n",
    "    ts, = plt.plot(x, z)\n",
    "    plt.legend((tr, ts), ('Training Accuracy', 'Test Accuracy'), loc = 'best')\n",
    "    plt.xlabel('min_samples_split')\n",
    "    plt.ylabel('Accuracy')"
   ]
  },
  {
   "cell_type": "code",
   "execution_count": 18,
   "metadata": {
    "collapsed": true
   },
   "outputs": [],
   "source": [
    "def test_Gaussian_NB_estimators():\n",
    "    model = GaussianNB()\n",
    "    fitted = model.fit(X_train, y_train)\n",
    "    #Training Accuracy\n",
    "    y = (accuracy_score(y_train, fitted.predict(X_train)))\n",
    "    #Test Accuracy\n",
    "    z = (accuracy_score(y_test, fitted.predict(X_test)))\n",
    "    tr, = plt.plot(range(1,20), [y] * 19)\n",
    "    ts, = plt.plot(range(1,20), [z] * 19)\n",
    "    plt.legend((tr, ts), ('Training Accuracy', 'Test Accuracy'), loc = 'best')\n",
    "    plt.xlabel('Gaussian_NB')\n",
    "    plt.ylabel('Accuracy')"
   ]
  },
  {
   "cell_type": "code",
   "execution_count": 19,
   "metadata": {
    "collapsed": true
   },
   "outputs": [],
   "source": [
    "def test_KNN_test_parameter(params):\n",
    "    x = []\n",
    "    y = []\n",
    "    z = []\n",
    "    for param in params:\n",
    "        x.append(param)\n",
    "        model = KNeighborsClassifier(n_neighbors = param)\n",
    "        fitted = model.fit(X_train, y_train)\n",
    "        #Training Accuracy\n",
    "        y.append(accuracy_score(y_train, fitted.predict(X_train)))\n",
    "        #Test Accuracy\n",
    "        z.append(accuracy_score(y_test, fitted.predict(X_test)))\n",
    "    tr, = plt.plot(x, y)\n",
    "    ts, = plt.plot(x, z)\n",
    "    plt.legend((tr, ts), ('Training Accuracy', 'Test Accuracy'), loc = 'best')\n",
    "    plt.xlabel('# Neighbors')\n",
    "    plt.ylabel('Accuracy')"
   ]
  },
  {
   "cell_type": "code",
   "execution_count": 20,
   "metadata": {
    "collapsed": true
   },
   "outputs": [],
   "source": [
    "def test_SVM_test_parameter(params):\n",
    "    x = []\n",
    "    y = []\n",
    "    z = []\n",
    "    for param in params:\n",
    "        x.append(param)\n",
    "        model = SVC(max_iter= param)\n",
    "        fitted = model.fit(X_train, y_train)\n",
    "        #Training Accuracy\n",
    "        y.append(accuracy_score(y_train, fitted.predict(X_train)))\n",
    "        #Test Accuracy\n",
    "        z.append(accuracy_score(y_test, fitted.predict(X_test)))\n",
    "    tr, = plt.plot(x, y)\n",
    "    ts, = plt.plot(x, z)\n",
    "    plt.legend((tr, ts), ('Training Accuracy', 'Test Accuracy'), loc = 'best')\n",
    "    plt.xlabel('C')\n",
    "    plt.ylabel('Accuracy')"
   ]
  },
  {
   "cell_type": "markdown",
   "metadata": {},
   "source": [
    "#### Choose 5 estimators"
   ]
  },
  {
   "cell_type": "code",
   "execution_count": 56,
   "metadata": {
    "collapsed": false
   },
   "outputs": [
    {
     "data": {
      "image/png": "[encoded data removed]",
      "text/plain": [
       "<matplotlib.figure.Figure at 0x10c6c76d0>"
      ]
     },
     "metadata": {},
     "output_type": "display_data"
    }
   ],
   "source": [
    "test_random_forest_n_estimators_parameter(range(1,20))"
   ]
  },
  {
   "cell_type": "markdown",
   "metadata": {},
   "source": [
    "#### Choose max_depth of 16"
   ]
  },
  {
   "cell_type": "code",
   "execution_count": 79,
   "metadata": {
    "collapsed": false,
    "scrolled": true
   },
   "outputs": [
    {
     "data": {
      "image/png": "[encoded data removed]",
      "text/plain": [
       "<matplotlib.figure.Figure at 0x10c95f990>"
      ]
     },
     "metadata": {},
     "output_type": "display_data"
    }
   ],
   "source": [
    "test_random_forest_max_depth_parameter(range(1,20))"
   ]
  },
  {
   "cell_type": "markdown",
   "metadata": {},
   "source": [
    "#### Choose 4 min samples split"
   ]
  },
  {
   "cell_type": "code",
   "execution_count": 80,
   "metadata": {
    "collapsed": false
   },
   "outputs": [
    {
     "data": {
      "image/png": "[encoded data removed]",
      "text/plain": [
       "<matplotlib.figure.Figure at 0x10e863a90>"
      ]
     },
     "metadata": {},
     "output_type": "display_data"
    }
   ],
   "source": [
    "test_random_forest_min_samples_split_parameter(range(2, 20))"
   ]
  },
  {
   "cell_type": "code",
   "execution_count": 22,
   "metadata": {
    "collapsed": false
   },
   "outputs": [
    {
     "data": {
      "image/png": "[encoded data removed]",
      "text/plain": [
       "<matplotlib.figure.Figure at 0x12e884ed0>"
      ]
     },
     "metadata": {},
     "output_type": "display_data"
    }
   ],
   "source": [
    "test_Gaussian_NB_estimators()"
   ]
  },
  {
   "cell_type": "code",
   "execution_count": null,
   "metadata": {
    "collapsed": false
   },
   "outputs": [],
   "source": [
    "test_KNN_test_parameter(range(1, 20))"
   ]
  },
  {
   "cell_type": "code",
   "execution_count": 78,
   "metadata": {
    "collapsed": true
   },
   "outputs": [
    {
     "name": "stderr",
     "output_type": "stream",
     "text": [
      "/Users/jkeung/anaconda/lib/python2.7/site-packages/sklearn/svm/base.py:209: ConvergenceWarning: Solver terminated early (max_iter=11).  Consider pre-processing your data with StandardScaler or MinMaxScaler.\n",
      "  % self.max_iter, ConvergenceWarning)\n",
      "/Users/jkeung/anaconda/lib/python2.7/site-packages/sklearn/svm/base.py:209: ConvergenceWarning: Solver terminated early (max_iter=12).  Consider pre-processing your data with StandardScaler or MinMaxScaler.\n",
      "  % self.max_iter, ConvergenceWarning)\n",
      "/Users/jkeung/anaconda/lib/python2.7/site-packages/sklearn/svm/base.py:209: ConvergenceWarning: Solver terminated early (max_iter=13).  Consider pre-processing your data with StandardScaler or MinMaxScaler.\n",
      "  % self.max_iter, ConvergenceWarning)\n",
      "/Users/jkeung/anaconda/lib/python2.7/site-packages/sklearn/svm/base.py:209: ConvergenceWarning: Solver terminated early (max_iter=14).  Consider pre-processing your data with StandardScaler or MinMaxScaler.\n",
      "  % self.max_iter, ConvergenceWarning)\n",
      "/Users/jkeung/anaconda/lib/python2.7/site-packages/sklearn/svm/base.py:209: ConvergenceWarning: Solver terminated early (max_iter=15).  Consider pre-processing your data with StandardScaler or MinMaxScaler.\n",
      "  % self.max_iter, ConvergenceWarning)\n",
      "/Users/jkeung/anaconda/lib/python2.7/site-packages/sklearn/svm/base.py:209: ConvergenceWarning: Solver terminated early (max_iter=16).  Consider pre-processing your data with StandardScaler or MinMaxScaler.\n",
      "  % self.max_iter, ConvergenceWarning)\n",
      "/Users/jkeung/anaconda/lib/python2.7/site-packages/sklearn/svm/base.py:209: ConvergenceWarning: Solver terminated early (max_iter=17).  Consider pre-processing your data with StandardScaler or MinMaxScaler.\n",
      "  % self.max_iter, ConvergenceWarning)\n",
      "/Users/jkeung/anaconda/lib/python2.7/site-packages/sklearn/svm/base.py:209: ConvergenceWarning: Solver terminated early (max_iter=18).  Consider pre-processing your data with StandardScaler or MinMaxScaler.\n",
      "  % self.max_iter, ConvergenceWarning)\n",
      "/Users/jkeung/anaconda/lib/python2.7/site-packages/sklearn/svm/base.py:209: ConvergenceWarning: Solver terminated early (max_iter=19).  Consider pre-processing your data with StandardScaler or MinMaxScaler.\n",
      "  % self.max_iter, ConvergenceWarning)\n"
     ]
    },
    {
     "ename": "KeyboardInterrupt",
     "evalue": "",
     "output_type": "error",
     "traceback": [
      "\u001b[0;31m---------------------------------------------------------------------------\u001b[0m",
      "\u001b[0;31mKeyboardInterrupt\u001b[0m                         Traceback (most recent call last)",
      "\u001b[0;32m<ipython-input-78-8380834073cc>\u001b[0m in \u001b[0;36m<module>\u001b[0;34m()\u001b[0m\n\u001b[0;32m----> 1\u001b[0;31m \u001b[0mtest_SVM_test_parameter\u001b[0m\u001b[0;34m(\u001b[0m\u001b[0mrange\u001b[0m\u001b[0;34m(\u001b[0m\u001b[0;36m1\u001b[0m\u001b[0;34m,\u001b[0m \u001b[0;36m20\u001b[0m\u001b[0;34m)\u001b[0m\u001b[0;34m)\u001b[0m\u001b[0;34m\u001b[0m\u001b[0m\n\u001b[0m",
      "\u001b[0;32m<ipython-input-27-18a1ab0b2454>\u001b[0m in \u001b[0;36mtest_SVM_test_parameter\u001b[0;34m(params)\u001b[0m\n\u001b[1;32m     10\u001b[0m         \u001b[0my\u001b[0m\u001b[0;34m.\u001b[0m\u001b[0mappend\u001b[0m\u001b[0;34m(\u001b[0m\u001b[0maccuracy_score\u001b[0m\u001b[0;34m(\u001b[0m\u001b[0my_train\u001b[0m\u001b[0;34m,\u001b[0m \u001b[0mfitted\u001b[0m\u001b[0;34m.\u001b[0m\u001b[0mpredict\u001b[0m\u001b[0;34m(\u001b[0m\u001b[0mX_train\u001b[0m\u001b[0;34m)\u001b[0m\u001b[0;34m)\u001b[0m\u001b[0;34m)\u001b[0m\u001b[0;34m\u001b[0m\u001b[0m\n\u001b[1;32m     11\u001b[0m         \u001b[0;31m#Test Accuracy\u001b[0m\u001b[0;34m\u001b[0m\u001b[0;34m\u001b[0m\u001b[0m\n\u001b[0;32m---> 12\u001b[0;31m         \u001b[0mz\u001b[0m\u001b[0;34m.\u001b[0m\u001b[0mappend\u001b[0m\u001b[0;34m(\u001b[0m\u001b[0maccuracy_score\u001b[0m\u001b[0;34m(\u001b[0m\u001b[0my_test\u001b[0m\u001b[0;34m,\u001b[0m \u001b[0mfitted\u001b[0m\u001b[0;34m.\u001b[0m\u001b[0mpredict\u001b[0m\u001b[0;34m(\u001b[0m\u001b[0mX_test\u001b[0m\u001b[0;34m)\u001b[0m\u001b[0;34m)\u001b[0m\u001b[0;34m)\u001b[0m\u001b[0;34m\u001b[0m\u001b[0m\n\u001b[0m\u001b[1;32m     13\u001b[0m     \u001b[0mtr\u001b[0m\u001b[0;34m,\u001b[0m \u001b[0;34m=\u001b[0m \u001b[0mplt\u001b[0m\u001b[0;34m.\u001b[0m\u001b[0mplot\u001b[0m\u001b[0;34m(\u001b[0m\u001b[0mx\u001b[0m\u001b[0;34m,\u001b[0m \u001b[0my\u001b[0m\u001b[0;34m)\u001b[0m\u001b[0;34m\u001b[0m\u001b[0m\n\u001b[1;32m     14\u001b[0m     \u001b[0mts\u001b[0m\u001b[0;34m,\u001b[0m \u001b[0;34m=\u001b[0m \u001b[0mplt\u001b[0m\u001b[0;34m.\u001b[0m\u001b[0mplot\u001b[0m\u001b[0;34m(\u001b[0m\u001b[0mx\u001b[0m\u001b[0;34m,\u001b[0m \u001b[0mz\u001b[0m\u001b[0;34m)\u001b[0m\u001b[0;34m\u001b[0m\u001b[0m\n",
      "\u001b[0;32m/Users/jkeung/anaconda/lib/python2.7/site-packages/sklearn/svm/base.pyc\u001b[0m in \u001b[0;36mpredict\u001b[0;34m(self, X)\u001b[0m\n\u001b[1;32m    498\u001b[0m             \u001b[0mClass\u001b[0m \u001b[0mlabels\u001b[0m \u001b[0;32mfor\u001b[0m \u001b[0msamples\u001b[0m \u001b[0;32min\u001b[0m \u001b[0mX\u001b[0m\u001b[0;34m.\u001b[0m\u001b[0;34m\u001b[0m\u001b[0m\n\u001b[1;32m    499\u001b[0m         \"\"\"\n\u001b[0;32m--> 500\u001b[0;31m         \u001b[0my\u001b[0m \u001b[0;34m=\u001b[0m \u001b[0msuper\u001b[0m\u001b[0;34m(\u001b[0m\u001b[0mBaseSVC\u001b[0m\u001b[0;34m,\u001b[0m \u001b[0mself\u001b[0m\u001b[0;34m)\u001b[0m\u001b[0;34m.\u001b[0m\u001b[0mpredict\u001b[0m\u001b[0;34m(\u001b[0m\u001b[0mX\u001b[0m\u001b[0;34m)\u001b[0m\u001b[0;34m\u001b[0m\u001b[0m\n\u001b[0m\u001b[1;32m    501\u001b[0m         \u001b[0;32mreturn\u001b[0m \u001b[0mself\u001b[0m\u001b[0;34m.\u001b[0m\u001b[0mclasses_\u001b[0m\u001b[0;34m.\u001b[0m\u001b[0mtake\u001b[0m\u001b[0;34m(\u001b[0m\u001b[0mnp\u001b[0m\u001b[0;34m.\u001b[0m\u001b[0masarray\u001b[0m\u001b[0;34m(\u001b[0m\u001b[0my\u001b[0m\u001b[0;34m,\u001b[0m \u001b[0mdtype\u001b[0m\u001b[0;34m=\u001b[0m\u001b[0mnp\u001b[0m\u001b[0;34m.\u001b[0m\u001b[0mintp\u001b[0m\u001b[0;34m)\u001b[0m\u001b[0;34m)\u001b[0m\u001b[0;34m\u001b[0m\u001b[0m\n\u001b[1;32m    502\u001b[0m \u001b[0;34m\u001b[0m\u001b[0m\n",
      "\u001b[0;32m/Users/jkeung/anaconda/lib/python2.7/site-packages/sklearn/svm/base.pyc\u001b[0m in \u001b[0;36mpredict\u001b[0;34m(self, X)\u001b[0m\n\u001b[1;32m    290\u001b[0m         \u001b[0mX\u001b[0m \u001b[0;34m=\u001b[0m \u001b[0mself\u001b[0m\u001b[0;34m.\u001b[0m\u001b[0m_validate_for_predict\u001b[0m\u001b[0;34m(\u001b[0m\u001b[0mX\u001b[0m\u001b[0;34m)\u001b[0m\u001b[0;34m\u001b[0m\u001b[0m\n\u001b[1;32m    291\u001b[0m         \u001b[0mpredict\u001b[0m \u001b[0;34m=\u001b[0m \u001b[0mself\u001b[0m\u001b[0;34m.\u001b[0m\u001b[0m_sparse_predict\u001b[0m \u001b[0;32mif\u001b[0m \u001b[0mself\u001b[0m\u001b[0;34m.\u001b[0m\u001b[0m_sparse\u001b[0m \u001b[0;32melse\u001b[0m \u001b[0mself\u001b[0m\u001b[0;34m.\u001b[0m\u001b[0m_dense_predict\u001b[0m\u001b[0;34m\u001b[0m\u001b[0m\n\u001b[0;32m--> 292\u001b[0;31m         \u001b[0;32mreturn\u001b[0m \u001b[0mpredict\u001b[0m\u001b[0;34m(\u001b[0m\u001b[0mX\u001b[0m\u001b[0;34m)\u001b[0m\u001b[0;34m\u001b[0m\u001b[0m\n\u001b[0m\u001b[1;32m    293\u001b[0m \u001b[0;34m\u001b[0m\u001b[0m\n\u001b[1;32m    294\u001b[0m     \u001b[0;32mdef\u001b[0m \u001b[0m_dense_predict\u001b[0m\u001b[0;34m(\u001b[0m\u001b[0mself\u001b[0m\u001b[0;34m,\u001b[0m \u001b[0mX\u001b[0m\u001b[0;34m)\u001b[0m\u001b[0;34m:\u001b[0m\u001b[0;34m\u001b[0m\u001b[0m\n",
      "\u001b[0;32m/Users/jkeung/anaconda/lib/python2.7/site-packages/sklearn/svm/base.pyc\u001b[0m in \u001b[0;36m_dense_predict\u001b[0;34m(self, X)\u001b[0m\n\u001b[1;32m    313\u001b[0m             \u001b[0mself\u001b[0m\u001b[0;34m.\u001b[0m\u001b[0mprobA_\u001b[0m\u001b[0;34m,\u001b[0m \u001b[0mself\u001b[0m\u001b[0;34m.\u001b[0m\u001b[0mprobB_\u001b[0m\u001b[0;34m,\u001b[0m \u001b[0msvm_type\u001b[0m\u001b[0;34m=\u001b[0m\u001b[0msvm_type\u001b[0m\u001b[0;34m,\u001b[0m \u001b[0mkernel\u001b[0m\u001b[0;34m=\u001b[0m\u001b[0mkernel\u001b[0m\u001b[0;34m,\u001b[0m\u001b[0;34m\u001b[0m\u001b[0m\n\u001b[1;32m    314\u001b[0m             \u001b[0mdegree\u001b[0m\u001b[0;34m=\u001b[0m\u001b[0mself\u001b[0m\u001b[0;34m.\u001b[0m\u001b[0mdegree\u001b[0m\u001b[0;34m,\u001b[0m \u001b[0mcoef0\u001b[0m\u001b[0;34m=\u001b[0m\u001b[0mself\u001b[0m\u001b[0;34m.\u001b[0m\u001b[0mcoef0\u001b[0m\u001b[0;34m,\u001b[0m \u001b[0mgamma\u001b[0m\u001b[0;34m=\u001b[0m\u001b[0mself\u001b[0m\u001b[0;34m.\u001b[0m\u001b[0m_gamma\u001b[0m\u001b[0;34m,\u001b[0m\u001b[0;34m\u001b[0m\u001b[0m\n\u001b[0;32m--> 315\u001b[0;31m             cache_size=self.cache_size)\n\u001b[0m\u001b[1;32m    316\u001b[0m \u001b[0;34m\u001b[0m\u001b[0m\n\u001b[1;32m    317\u001b[0m     \u001b[0;32mdef\u001b[0m \u001b[0m_sparse_predict\u001b[0m\u001b[0;34m(\u001b[0m\u001b[0mself\u001b[0m\u001b[0;34m,\u001b[0m \u001b[0mX\u001b[0m\u001b[0;34m)\u001b[0m\u001b[0;34m:\u001b[0m\u001b[0;34m\u001b[0m\u001b[0m\n",
      "\u001b[0;31mKeyboardInterrupt\u001b[0m: "
     ]
    }
   ],
   "source": [
    "test_SVM_test_parameter(range(1, 20))"
   ]
  },
  {
   "cell_type": "code",
   "execution_count": null,
   "metadata": {
    "collapsed": false
   },
   "outputs": [],
   "source": [
    "# Split the dataset in two equal parts\n",
    "#X_train, X_test, y_train, y_test = train_test_split(\n",
    "#    X, y, test_size=0.8, random_state=0)\n",
    "\n",
    "# Set the parameters by cross-validation\n",
    "tuned_parameters = [{'kernel': ['rbf'], 'gamma': [1e-3, 1e-4],\n",
    "                     'C': [1, 10, 100, 1000]},\n",
    "                    {'kernel': ['linear'], 'C': [1, 10, 100, 1000]}]\n",
    "\n",
    "scores = ['precision', 'recall', 'accuracy']\n",
    "\n",
    "for score in scores:\n",
    "    print(\"# Tuning hyper-parameters for %s\" % score)\n",
    "    print()\n",
    "\n",
    "    clf = GridSearchCV(SVC(C=1), tuned_parameters, cv=5, scoring=score)\n",
    "    clf.fit(X_train, y_train)\n",
    "\n",
    "    print(\"Best parameters set found on development set:\")\n",
    "    print()\n",
    "    print(clf.best_estimator_)\n",
    "    print()\n",
    "    print(\"Grid scores on development set:\")\n",
    "    print()\n",
    "    for params, mean_score, scores in clf.grid_scores_:\n",
    "        print(\"%0.3f (+/-%0.03f) for %r\"\n",
    "              % (mean_score, scores.std() / 2, params))\n",
    "    print()\n",
    "\n",
    "    print(\"Detailed classification report:\")\n",
    "    print()\n",
    "    print(\"The model is trained on the full development set.\")\n",
    "    print(\"The scores are computed on the full evaluation set.\")\n",
    "    print()\n",
    "    y_true, y_pred = y_test, clf.predict(X_test)\n",
    "    print(classification_report(y_true, y_pred))\n",
    "    print()\n"
   ]
  },
  {
   "cell_type": "code",
   "execution_count": null,
   "metadata": {
    "collapsed": true
   },
   "outputs": [],
   "source": [
    "1"
   ]
  },
  {
   "cell_type": "code",
   "execution_count": null,
   "metadata": {
    "collapsed": true
   },
   "outputs": [],
   "source": []
  }
 ],
 "metadata": {
  "kernelspec": {
   "display_name": "Python 2",
   "language": "python",
   "name": "python2"
  },
  "language_info": {
   "codemirror_mode": {
    "name": "ipython",
    "version": 2
   },
   "file_extension": ".py",
   "mimetype": "text/x-python",
   "name": "python",
   "nbconvert_exporter": "python",
   "pygments_lexer": "ipython2",
   "version": "2.7.10"
  }
 },
 "nbformat": 4,
 "nbformat_minor": 0
}
